{
 "cells": [
  {
   "cell_type": "code",
   "execution_count": 1,
   "id": "3a409325",
   "metadata": {},
   "outputs": [
    {
     "name": "stdout",
     "output_type": "stream",
     "text": [
      "hello world\n"
     ]
    }
   ],
   "source": [
    "print(\"hello world\")"
   ]
  },
  {
   "cell_type": "code",
   "execution_count": 2,
   "id": "29f4544d",
   "metadata": {},
   "outputs": [
    {
     "data": {
      "text/plain": [
       "37"
      ]
     },
     "execution_count": 2,
     "metadata": {},
     "output_type": "execute_result"
    }
   ],
   "source": [
    "24 + 13"
   ]
  },
  {
   "cell_type": "code",
   "execution_count": 3,
   "id": "960192f6",
   "metadata": {},
   "outputs": [
    {
     "name": "stdout",
     "output_type": "stream",
     "text": [
      "cherry\n"
     ]
    }
   ],
   "source": [
    "print(\"cherry\")"
   ]
  },
  {
   "cell_type": "code",
   "execution_count": 4,
   "id": "96c0d8d2",
   "metadata": {},
   "outputs": [],
   "source": [
    "x = 24 "
   ]
  },
  {
   "cell_type": "code",
   "execution_count": 5,
   "id": "ea491991",
   "metadata": {},
   "outputs": [
    {
     "data": {
      "text/plain": [
       "int"
      ]
     },
     "execution_count": 5,
     "metadata": {},
     "output_type": "execute_result"
    }
   ],
   "source": [
    "type(x)"
   ]
  },
  {
   "cell_type": "code",
   "execution_count": 6,
   "id": "5a551163",
   "metadata": {},
   "outputs": [],
   "source": [
    "pi = 3.14"
   ]
  },
  {
   "cell_type": "code",
   "execution_count": 7,
   "id": "9f3f66f1",
   "metadata": {},
   "outputs": [
    {
     "data": {
      "text/plain": [
       "float"
      ]
     },
     "execution_count": 7,
     "metadata": {},
     "output_type": "execute_result"
    }
   ],
   "source": [
    "type(pi)"
   ]
  },
  {
   "cell_type": "code",
   "execution_count": 8,
   "id": "18bf3358",
   "metadata": {},
   "outputs": [],
   "source": [
    "x = \"watermelon\""
   ]
  },
  {
   "cell_type": "code",
   "execution_count": 9,
   "id": "215bcda8",
   "metadata": {},
   "outputs": [
    {
     "data": {
      "text/plain": [
       "str"
      ]
     },
     "execution_count": 9,
     "metadata": {},
     "output_type": "execute_result"
    }
   ],
   "source": [
    "type(x)"
   ]
  },
  {
   "cell_type": "code",
   "execution_count": 10,
   "id": "88286c1e",
   "metadata": {},
   "outputs": [],
   "source": [
    "myBoolean = True"
   ]
  },
  {
   "cell_type": "code",
   "execution_count": 11,
   "id": "eb7b3d31",
   "metadata": {},
   "outputs": [
    {
     "data": {
      "text/plain": [
       "bool"
      ]
     },
     "execution_count": 11,
     "metadata": {},
     "output_type": "execute_result"
    }
   ],
   "source": [
    "type(myBoolean)"
   ]
  },
  {
   "cell_type": "code",
   "execution_count": 12,
   "id": "c3c7b038",
   "metadata": {},
   "outputs": [],
   "source": [
    "myString = \"beach\""
   ]
  },
  {
   "cell_type": "code",
   "execution_count": 13,
   "id": "fe7725a1",
   "metadata": {},
   "outputs": [
    {
     "data": {
      "text/plain": [
       "'a'"
      ]
     },
     "execution_count": 13,
     "metadata": {},
     "output_type": "execute_result"
    }
   ],
   "source": [
    "myString[2]"
   ]
  },
  {
   "cell_type": "code",
   "execution_count": 14,
   "id": "93700121",
   "metadata": {},
   "outputs": [
    {
     "data": {
      "text/plain": [
       "5"
      ]
     },
     "execution_count": 14,
     "metadata": {},
     "output_type": "execute_result"
    }
   ],
   "source": [
    "len(myString)"
   ]
  },
  {
   "cell_type": "code",
   "execution_count": 15,
   "id": "a01e5218",
   "metadata": {},
   "outputs": [
    {
     "data": {
      "text/plain": [
       "'h'"
      ]
     },
     "execution_count": 15,
     "metadata": {},
     "output_type": "execute_result"
    }
   ],
   "source": [
    "myString[len(myString)-1]"
   ]
  },
  {
   "cell_type": "code",
   "execution_count": 16,
   "id": "9a49f51d",
   "metadata": {},
   "outputs": [
    {
     "data": {
      "text/plain": [
       "'h'"
      ]
     },
     "execution_count": 16,
     "metadata": {},
     "output_type": "execute_result"
    }
   ],
   "source": [
    "myString[-1]"
   ]
  },
  {
   "cell_type": "code",
   "execution_count": 17,
   "id": "1e238371",
   "metadata": {},
   "outputs": [
    {
     "data": {
      "text/plain": [
       "'beachbeach'"
      ]
     },
     "execution_count": 17,
     "metadata": {},
     "output_type": "execute_result"
    }
   ],
   "source": [
    "myString * 2 "
   ]
  },
  {
   "cell_type": "code",
   "execution_count": 18,
   "id": "22226160",
   "metadata": {},
   "outputs": [
    {
     "data": {
      "text/plain": [
       "'caterpillar'"
      ]
     },
     "execution_count": 18,
     "metadata": {},
     "output_type": "execute_result"
    }
   ],
   "source": [
    "\"cater\" + \"pillar\""
   ]
  },
  {
   "cell_type": "code",
   "execution_count": 19,
   "id": "f67e5fdf",
   "metadata": {},
   "outputs": [],
   "source": [
    "#slicing"
   ]
  },
  {
   "cell_type": "code",
   "execution_count": 20,
   "id": "dd61bfb2",
   "metadata": {},
   "outputs": [
    {
     "data": {
      "text/plain": [
       "'beach'"
      ]
     },
     "execution_count": 20,
     "metadata": {},
     "output_type": "execute_result"
    }
   ],
   "source": [
    "myString"
   ]
  },
  {
   "cell_type": "code",
   "execution_count": 21,
   "id": "eb9bd220",
   "metadata": {},
   "outputs": [
    {
     "data": {
      "text/plain": [
       "'Beach'"
      ]
     },
     "execution_count": 21,
     "metadata": {},
     "output_type": "execute_result"
    }
   ],
   "source": [
    "myString.capitalize()"
   ]
  },
  {
   "cell_type": "code",
   "execution_count": 22,
   "id": "489d7947",
   "metadata": {
    "scrolled": true
   },
   "outputs": [
    {
     "data": {
      "text/plain": [
       "1"
      ]
     },
     "execution_count": 22,
     "metadata": {},
     "output_type": "execute_result"
    }
   ],
   "source": [
    "myString.count(\"c\")"
   ]
  },
  {
   "cell_type": "code",
   "execution_count": 23,
   "id": "9d01892b",
   "metadata": {},
   "outputs": [
    {
     "data": {
      "text/plain": [
       "'ch'"
      ]
     },
     "execution_count": 23,
     "metadata": {},
     "output_type": "execute_result"
    }
   ],
   "source": [
    "myString[3:] #starting index"
   ]
  },
  {
   "cell_type": "code",
   "execution_count": 24,
   "id": "31644616",
   "metadata": {},
   "outputs": [
    {
     "data": {
      "text/plain": [
       "'bea'"
      ]
     },
     "execution_count": 24,
     "metadata": {},
     "output_type": "execute_result"
    }
   ],
   "source": [
    "myString[:3] #stopping index"
   ]
  },
  {
   "cell_type": "code",
   "execution_count": 25,
   "id": "b35d92f6",
   "metadata": {},
   "outputs": [],
   "source": [
    "barcode = \"131313sunset131313\""
   ]
  },
  {
   "cell_type": "code",
   "execution_count": 26,
   "id": "3cf3a795",
   "metadata": {},
   "outputs": [
    {
     "data": {
      "text/plain": [
       "'sunset'"
      ]
     },
     "execution_count": 26,
     "metadata": {},
     "output_type": "execute_result"
    }
   ],
   "source": [
    "barcode[6:12]"
   ]
  },
  {
   "cell_type": "code",
   "execution_count": 27,
   "id": "25592e57",
   "metadata": {},
   "outputs": [
    {
     "data": {
      "text/plain": [
       "'313131tesnus313131'"
      ]
     },
     "execution_count": 27,
     "metadata": {},
     "output_type": "execute_result"
    }
   ],
   "source": [
    "barcode[::-1]"
   ]
  },
  {
   "cell_type": "code",
   "execution_count": 28,
   "id": "f0006873",
   "metadata": {},
   "outputs": [
    {
     "data": {
      "text/plain": [
       "'13ss13'"
      ]
     },
     "execution_count": 28,
     "metadata": {},
     "output_type": "execute_result"
    }
   ],
   "source": [
    "barcode[::3]"
   ]
  },
  {
   "cell_type": "code",
   "execution_count": 29,
   "id": "8337d517",
   "metadata": {},
   "outputs": [],
   "source": [
    "#lists"
   ]
  },
  {
   "cell_type": "code",
   "execution_count": 30,
   "id": "d766cf7d",
   "metadata": {},
   "outputs": [],
   "source": [
    "myList = [1,2,3,4,5,6,7,8]"
   ]
  },
  {
   "cell_type": "code",
   "execution_count": 31,
   "id": "d5072720",
   "metadata": {},
   "outputs": [
    {
     "data": {
      "text/plain": [
       "list"
      ]
     },
     "execution_count": 31,
     "metadata": {},
     "output_type": "execute_result"
    }
   ],
   "source": [
    "type(myList)"
   ]
  },
  {
   "cell_type": "code",
   "execution_count": 32,
   "id": "aac4ae1b",
   "metadata": {},
   "outputs": [],
   "source": [
    "myEmptyList = list()"
   ]
  },
  {
   "cell_type": "code",
   "execution_count": 33,
   "id": "b6256897",
   "metadata": {},
   "outputs": [],
   "source": [
    "myEmptyList.append(\"cat\")"
   ]
  },
  {
   "cell_type": "code",
   "execution_count": 34,
   "id": "ca66177d",
   "metadata": {},
   "outputs": [],
   "source": [
    "myEmptyList.append(\"bird\")"
   ]
  },
  {
   "cell_type": "code",
   "execution_count": 35,
   "id": "dc9d0ea3",
   "metadata": {},
   "outputs": [],
   "source": [
    "myEmptyList.append(\"dog\")"
   ]
  },
  {
   "cell_type": "code",
   "execution_count": 36,
   "id": "8ed9b771",
   "metadata": {},
   "outputs": [],
   "source": [
    "myEmptyList.append(\"tiger\")"
   ]
  },
  {
   "cell_type": "code",
   "execution_count": 37,
   "id": "9c11ed28",
   "metadata": {},
   "outputs": [
    {
     "data": {
      "text/plain": [
       "['cat', 'bird', 'dog', 'tiger']"
      ]
     },
     "execution_count": 37,
     "metadata": {},
     "output_type": "execute_result"
    }
   ],
   "source": [
    "myEmptyList #not empty list anymore .d"
   ]
  },
  {
   "cell_type": "code",
   "execution_count": 38,
   "id": "3abb689f",
   "metadata": {},
   "outputs": [],
   "source": [
    "myEmptyList.remove(\"dog\")"
   ]
  },
  {
   "cell_type": "code",
   "execution_count": 39,
   "id": "5d5e155d",
   "metadata": {},
   "outputs": [
    {
     "data": {
      "text/plain": [
       "['cat', 'bird', 'tiger']"
      ]
     },
     "execution_count": 39,
     "metadata": {},
     "output_type": "execute_result"
    }
   ],
   "source": [
    "myEmptyList"
   ]
  },
  {
   "cell_type": "code",
   "execution_count": 40,
   "id": "73b543f8",
   "metadata": {},
   "outputs": [],
   "source": [
    "myMixedList = [1, 2, 2.5, \"happy\", \"sad\"]"
   ]
  },
  {
   "cell_type": "code",
   "execution_count": 41,
   "id": "1bb8baec",
   "metadata": {},
   "outputs": [
    {
     "data": {
      "text/plain": [
       "2.5"
      ]
     },
     "execution_count": 41,
     "metadata": {},
     "output_type": "execute_result"
    }
   ],
   "source": [
    "myMixedList[2]"
   ]
  },
  {
   "cell_type": "code",
   "execution_count": 42,
   "id": "4f960242",
   "metadata": {},
   "outputs": [],
   "source": [
    "x = myMixedList[3]"
   ]
  },
  {
   "cell_type": "code",
   "execution_count": 43,
   "id": "233017d8",
   "metadata": {},
   "outputs": [
    {
     "data": {
      "text/plain": [
       "str"
      ]
     },
     "execution_count": 43,
     "metadata": {},
     "output_type": "execute_result"
    }
   ],
   "source": [
    "type(x)"
   ]
  },
  {
   "cell_type": "code",
   "execution_count": 44,
   "id": "621233a5",
   "metadata": {},
   "outputs": [
    {
     "data": {
      "text/plain": [
       "[1, 2.5, 'sad']"
      ]
     },
     "execution_count": 44,
     "metadata": {},
     "output_type": "execute_result"
    }
   ],
   "source": [
    "myMixedList[::2]"
   ]
  },
  {
   "cell_type": "code",
   "execution_count": 45,
   "id": "aed231b7",
   "metadata": {},
   "outputs": [],
   "source": [
    "myNestedList = [13, 7, 2000, [True, False], [1, [2, 3], [5]]]"
   ]
  },
  {
   "cell_type": "code",
   "execution_count": 46,
   "id": "8fb83c33",
   "metadata": {},
   "outputs": [
    {
     "data": {
      "text/plain": [
       "[5]"
      ]
     },
     "execution_count": 46,
     "metadata": {},
     "output_type": "execute_result"
    }
   ],
   "source": [
    "myNestedList[4][2]"
   ]
  },
  {
   "cell_type": "code",
   "execution_count": 47,
   "id": "1d818979",
   "metadata": {},
   "outputs": [
    {
     "data": {
      "text/plain": [
       "13"
      ]
     },
     "execution_count": 47,
     "metadata": {},
     "output_type": "execute_result"
    }
   ],
   "source": [
    "myNestedList[0]"
   ]
  },
  {
   "cell_type": "code",
   "execution_count": 48,
   "id": "121b0ff9",
   "metadata": {},
   "outputs": [
    {
     "data": {
      "text/plain": [
       "[13, 7, 2000, [True, False], [1, [2, 3], [5]]]"
      ]
     },
     "execution_count": 48,
     "metadata": {},
     "output_type": "execute_result"
    }
   ],
   "source": [
    "myNestedList"
   ]
  },
  {
   "cell_type": "code",
   "execution_count": 49,
   "id": "01cbf96e",
   "metadata": {},
   "outputs": [],
   "source": [
    "#Dictionary (key-value pairing)"
   ]
  },
  {
   "cell_type": "code",
   "execution_count": 50,
   "id": "534a1acc",
   "metadata": {},
   "outputs": [],
   "source": [
    "myDictionary = {\"Permanent Way\": \"Charlie Cunnigham\", \"The Pursuit of Happines\":\"Beyries\", \"Bluebird\":\"Lola Marsh\"}"
   ]
  },
  {
   "cell_type": "code",
   "execution_count": 51,
   "id": "99acbf00",
   "metadata": {},
   "outputs": [
    {
     "data": {
      "text/plain": [
       "dict"
      ]
     },
     "execution_count": 51,
     "metadata": {},
     "output_type": "execute_result"
    }
   ],
   "source": [
    "type(myDictionary)"
   ]
  },
  {
   "cell_type": "code",
   "execution_count": 52,
   "id": "001f450f",
   "metadata": {},
   "outputs": [
    {
     "data": {
      "text/plain": [
       "'Lola Marsh'"
      ]
     },
     "execution_count": 52,
     "metadata": {},
     "output_type": "execute_result"
    }
   ],
   "source": [
    "myDictionary[\"Bluebird\"]"
   ]
  },
  {
   "cell_type": "code",
   "execution_count": 53,
   "id": "544e9b0f",
   "metadata": {},
   "outputs": [
    {
     "data": {
      "text/plain": [
       "{'Permanent Way': 'Charlie Cunnigham',\n",
       " 'The Pursuit of Happines': 'Beyries',\n",
       " 'Bluebird': 'Lola Marsh'}"
      ]
     },
     "execution_count": 53,
     "metadata": {},
     "output_type": "execute_result"
    }
   ],
   "source": [
    "myDictionary"
   ]
  },
  {
   "cell_type": "code",
   "execution_count": 54,
   "id": "07124872",
   "metadata": {},
   "outputs": [
    {
     "data": {
      "text/plain": [
       "dict_keys(['Permanent Way', 'The Pursuit of Happines', 'Bluebird'])"
      ]
     },
     "execution_count": 54,
     "metadata": {},
     "output_type": "execute_result"
    }
   ],
   "source": [
    "myDictionary.keys()"
   ]
  },
  {
   "cell_type": "code",
   "execution_count": 55,
   "id": "2d5bae5a",
   "metadata": {},
   "outputs": [
    {
     "data": {
      "text/plain": [
       "dict_values(['Charlie Cunnigham', 'Beyries', 'Lola Marsh'])"
      ]
     },
     "execution_count": 55,
     "metadata": {},
     "output_type": "execute_result"
    }
   ],
   "source": [
    "myDictionary.values()"
   ]
  },
  {
   "cell_type": "code",
   "execution_count": 56,
   "id": "49e41a2a",
   "metadata": {},
   "outputs": [
    {
     "data": {
      "text/plain": [
       "dict_items([('Permanent Way', 'Charlie Cunnigham'), ('The Pursuit of Happines', 'Beyries'), ('Bluebird', 'Lola Marsh')])"
      ]
     },
     "execution_count": 56,
     "metadata": {},
     "output_type": "execute_result"
    }
   ],
   "source": [
    "myDictionary.items()"
   ]
  },
  {
   "cell_type": "code",
   "execution_count": 57,
   "id": "0c78070d",
   "metadata": {},
   "outputs": [
    {
     "data": {
      "text/plain": [
       "\" 'often' isn't in the dictionary\""
      ]
     },
     "execution_count": 57,
     "metadata": {},
     "output_type": "execute_result"
    }
   ],
   "source": [
    "myDictionary.get(\"often\", \" 'often' isn't in the dictionary\")"
   ]
  },
  {
   "cell_type": "code",
   "execution_count": 58,
   "id": "38ed1cdf",
   "metadata": {},
   "outputs": [
    {
     "data": {
      "text/plain": [
       "'Charlie Cunnigham'"
      ]
     },
     "execution_count": 58,
     "metadata": {},
     "output_type": "execute_result"
    }
   ],
   "source": [
    "myDictionary.pop(\"Permanent Way\")"
   ]
  },
  {
   "cell_type": "code",
   "execution_count": 59,
   "id": "6edbafd1",
   "metadata": {},
   "outputs": [
    {
     "data": {
      "text/plain": [
       "{'The Pursuit of Happines': 'Beyries', 'Bluebird': 'Lola Marsh'}"
      ]
     },
     "execution_count": 59,
     "metadata": {},
     "output_type": "execute_result"
    }
   ],
   "source": [
    "myDictionary"
   ]
  },
  {
   "cell_type": "code",
   "execution_count": 60,
   "id": "58e664a6",
   "metadata": {},
   "outputs": [],
   "source": [
    "myOtherDictionary = {\"numbers\":[1, 2, 3], \"salary\":[3000, 5000]}"
   ]
  },
  {
   "cell_type": "code",
   "execution_count": 61,
   "id": "dac1ae31",
   "metadata": {},
   "outputs": [
    {
     "data": {
      "text/plain": [
       "{'numbers': [1, 2, 3], 'salary': [3000, 5000]}"
      ]
     },
     "execution_count": 61,
     "metadata": {},
     "output_type": "execute_result"
    }
   ],
   "source": [
    "myOtherDictionary"
   ]
  },
  {
   "cell_type": "code",
   "execution_count": 62,
   "id": "e93beeb8",
   "metadata": {},
   "outputs": [
    {
     "data": {
      "text/plain": [
       "5000"
      ]
     },
     "execution_count": 62,
     "metadata": {},
     "output_type": "execute_result"
    }
   ],
   "source": [
    "myOtherDictionary[\"salary\"][1]"
   ]
  },
  {
   "cell_type": "code",
   "execution_count": 63,
   "id": "5511501f",
   "metadata": {},
   "outputs": [],
   "source": [
    "#set"
   ]
  },
  {
   "cell_type": "code",
   "execution_count": 64,
   "id": "1ee6fb3d",
   "metadata": {},
   "outputs": [],
   "source": [
    "mySet = {}"
   ]
  },
  {
   "cell_type": "code",
   "execution_count": 65,
   "id": "01ec5472",
   "metadata": {},
   "outputs": [
    {
     "data": {
      "text/plain": [
       "dict"
      ]
     },
     "execution_count": 65,
     "metadata": {},
     "output_type": "execute_result"
    }
   ],
   "source": [
    "type(mySet)"
   ]
  },
  {
   "cell_type": "code",
   "execution_count": 66,
   "id": "41ab5ea4",
   "metadata": {},
   "outputs": [],
   "source": [
    "myRealSet = {1, 2, 3}"
   ]
  },
  {
   "cell_type": "code",
   "execution_count": 67,
   "id": "e8a5f86b",
   "metadata": {},
   "outputs": [
    {
     "data": {
      "text/plain": [
       "set"
      ]
     },
     "execution_count": 67,
     "metadata": {},
     "output_type": "execute_result"
    }
   ],
   "source": [
    "type(myRealSet)"
   ]
  },
  {
   "cell_type": "code",
   "execution_count": 68,
   "id": "cd80df07",
   "metadata": {},
   "outputs": [],
   "source": [
    "myEmptySet = set()"
   ]
  },
  {
   "cell_type": "code",
   "execution_count": 69,
   "id": "1ebf318f",
   "metadata": {},
   "outputs": [
    {
     "data": {
      "text/plain": [
       "set"
      ]
     },
     "execution_count": 69,
     "metadata": {},
     "output_type": "execute_result"
    }
   ],
   "source": [
    "type(myEmptySet)"
   ]
  },
  {
   "cell_type": "code",
   "execution_count": 70,
   "id": "7ec4014b",
   "metadata": {},
   "outputs": [],
   "source": [
    "myEmptySet = {1, 2, 3, 3, 3, 3, 4}"
   ]
  },
  {
   "cell_type": "code",
   "execution_count": 71,
   "id": "3006eb1f",
   "metadata": {},
   "outputs": [
    {
     "data": {
      "text/plain": [
       "{1, 2, 3, 4}"
      ]
     },
     "execution_count": 71,
     "metadata": {},
     "output_type": "execute_result"
    }
   ],
   "source": [
    "myEmptySet #it isn't empty nowadays.."
   ]
  },
  {
   "cell_type": "code",
   "execution_count": 72,
   "id": "c18fbc43",
   "metadata": {},
   "outputs": [],
   "source": [
    "mySet = {\"a\", \"b\", \"b\", \"b\", \"c\"}"
   ]
  },
  {
   "cell_type": "code",
   "execution_count": 73,
   "id": "2bbff3fb",
   "metadata": {},
   "outputs": [
    {
     "data": {
      "text/plain": [
       "{'a', 'b', 'c'}"
      ]
     },
     "execution_count": 73,
     "metadata": {},
     "output_type": "execute_result"
    }
   ],
   "source": [
    "mySet"
   ]
  },
  {
   "cell_type": "code",
   "execution_count": 74,
   "id": "c00c4d12",
   "metadata": {},
   "outputs": [],
   "source": [
    "mySet.add(\"e\")"
   ]
  },
  {
   "cell_type": "code",
   "execution_count": 75,
   "id": "005e6333",
   "metadata": {},
   "outputs": [
    {
     "data": {
      "text/plain": [
       "{'a', 'b', 'c', 'e'}"
      ]
     },
     "execution_count": 75,
     "metadata": {},
     "output_type": "execute_result"
    }
   ],
   "source": [
    "mySet"
   ]
  },
  {
   "cell_type": "code",
   "execution_count": 76,
   "id": "5338e3a7",
   "metadata": {},
   "outputs": [],
   "source": [
    "#tuple #The value in it cannot be changed later"
   ]
  },
  {
   "cell_type": "code",
   "execution_count": 77,
   "id": "a4c0f3d0",
   "metadata": {},
   "outputs": [],
   "source": [
    "myTuple = [1, 2, 3, 4, 5, 1, 2, 3]"
   ]
  },
  {
   "cell_type": "code",
   "execution_count": 78,
   "id": "372d98e8",
   "metadata": {},
   "outputs": [
    {
     "data": {
      "text/plain": [
       "[1, 2, 3, 4, 5, 1, 2, 3]"
      ]
     },
     "execution_count": 78,
     "metadata": {},
     "output_type": "execute_result"
    }
   ],
   "source": [
    "myTuple"
   ]
  },
  {
   "cell_type": "code",
   "execution_count": 79,
   "id": "df8ffa0c",
   "metadata": {},
   "outputs": [
    {
     "data": {
      "text/plain": [
       "1"
      ]
     },
     "execution_count": 79,
     "metadata": {},
     "output_type": "execute_result"
    }
   ],
   "source": [
    "myTuple[0]"
   ]
  },
  {
   "cell_type": "code",
   "execution_count": 80,
   "id": "a7296369",
   "metadata": {},
   "outputs": [
    {
     "data": {
      "text/plain": [
       "2"
      ]
     },
     "execution_count": 80,
     "metadata": {},
     "output_type": "execute_result"
    }
   ],
   "source": [
    "myTuple.count(1)"
   ]
  },
  {
   "cell_type": "code",
   "execution_count": 81,
   "id": "f98a8314",
   "metadata": {},
   "outputs": [],
   "source": [
    "#tuple unpacking"
   ]
  },
  {
   "cell_type": "code",
   "execution_count": 82,
   "id": "c4828fa2",
   "metadata": {},
   "outputs": [],
   "source": [
    "(x,y) = (5,4)"
   ]
  },
  {
   "cell_type": "code",
   "execution_count": 83,
   "id": "8f78d657",
   "metadata": {},
   "outputs": [],
   "source": [
    "myTemp = x"
   ]
  },
  {
   "cell_type": "code",
   "execution_count": 84,
   "id": "cee05839",
   "metadata": {},
   "outputs": [],
   "source": [
    "x = y"
   ]
  },
  {
   "cell_type": "code",
   "execution_count": 85,
   "id": "50b09d5a",
   "metadata": {},
   "outputs": [],
   "source": [
    "y = myTemp"
   ]
  },
  {
   "cell_type": "code",
   "execution_count": 86,
   "id": "405516fb",
   "metadata": {},
   "outputs": [
    {
     "data": {
      "text/plain": [
       "4"
      ]
     },
     "execution_count": 86,
     "metadata": {},
     "output_type": "execute_result"
    }
   ],
   "source": [
    "x"
   ]
  },
  {
   "cell_type": "code",
   "execution_count": 87,
   "id": "a7de4ffe",
   "metadata": {},
   "outputs": [
    {
     "data": {
      "text/plain": [
       "5"
      ]
     },
     "execution_count": 87,
     "metadata": {},
     "output_type": "execute_result"
    }
   ],
   "source": [
    "y"
   ]
  },
  {
   "cell_type": "code",
   "execution_count": 88,
   "id": "76de2796",
   "metadata": {},
   "outputs": [],
   "source": [
    "(m,n) = (10,20) "
   ]
  },
  {
   "cell_type": "code",
   "execution_count": 89,
   "id": "eae3900b",
   "metadata": {},
   "outputs": [],
   "source": [
    "(m,n) = (n,m) #easy way"
   ]
  },
  {
   "cell_type": "code",
   "execution_count": 90,
   "id": "d9bb1abf",
   "metadata": {},
   "outputs": [
    {
     "data": {
      "text/plain": [
       "20"
      ]
     },
     "execution_count": 90,
     "metadata": {},
     "output_type": "execute_result"
    }
   ],
   "source": [
    "m"
   ]
  },
  {
   "cell_type": "code",
   "execution_count": 91,
   "id": "1d99affe",
   "metadata": {},
   "outputs": [
    {
     "data": {
      "text/plain": [
       "10"
      ]
     },
     "execution_count": 91,
     "metadata": {},
     "output_type": "execute_result"
    }
   ],
   "source": [
    "n"
   ]
  },
  {
   "cell_type": "code",
   "execution_count": 92,
   "id": "e186fe65",
   "metadata": {},
   "outputs": [],
   "source": [
    "myInt = 10 "
   ]
  },
  {
   "cell_type": "code",
   "execution_count": 93,
   "id": "7711ae92",
   "metadata": {},
   "outputs": [
    {
     "data": {
      "text/plain": [
       "'10'"
      ]
     },
     "execution_count": 93,
     "metadata": {},
     "output_type": "execute_result"
    }
   ],
   "source": [
    "str(myInt)"
   ]
  },
  {
   "cell_type": "code",
   "execution_count": 94,
   "id": "d822987f",
   "metadata": {},
   "outputs": [
    {
     "data": {
      "text/plain": [
       "40"
      ]
     },
     "execution_count": 94,
     "metadata": {},
     "output_type": "execute_result"
    }
   ],
   "source": [
    "int(\"40\")"
   ]
  },
  {
   "cell_type": "code",
   "execution_count": 95,
   "id": "4e1f4875",
   "metadata": {},
   "outputs": [
    {
     "name": "stdout",
     "output_type": "stream",
     "text": [
      "Enter your student id: 130700\n"
     ]
    }
   ],
   "source": [
    "studentId = input(\"Enter your student id: \")"
   ]
  },
  {
   "cell_type": "code",
   "execution_count": 108,
   "id": "9daf6ee8",
   "metadata": {},
   "outputs": [
    {
     "data": {
      "text/plain": [
       "str"
      ]
     },
     "execution_count": 108,
     "metadata": {},
     "output_type": "execute_result"
    }
   ],
   "source": [
    "type(studentId)"
   ]
  },
  {
   "cell_type": "code",
   "execution_count": 109,
   "id": "82a075d5",
   "metadata": {},
   "outputs": [
    {
     "data": {
      "text/plain": [
       "130700000"
      ]
     },
     "execution_count": 109,
     "metadata": {},
     "output_type": "execute_result"
    }
   ],
   "source": [
    "int(studentId) * 1000"
   ]
  },
  {
   "cell_type": "code",
   "execution_count": null,
   "id": "375bf681",
   "metadata": {},
   "outputs": [],
   "source": [
    "#here's the more type change examples"
   ]
  },
  {
   "cell_type": "code",
   "execution_count": 98,
   "id": "666a9da8",
   "metadata": {},
   "outputs": [
    {
     "data": {
      "text/plain": [
       "4.5"
      ]
     },
     "execution_count": 98,
     "metadata": {},
     "output_type": "execute_result"
    }
   ],
   "source": [
    "1.5 * 3"
   ]
  },
  {
   "cell_type": "code",
   "execution_count": 99,
   "id": "ed605fce",
   "metadata": {},
   "outputs": [],
   "source": [
    "myFloat = 4.5 "
   ]
  },
  {
   "cell_type": "code",
   "execution_count": 100,
   "id": "55379a4a",
   "metadata": {},
   "outputs": [
    {
     "data": {
      "text/plain": [
       "4"
      ]
     },
     "execution_count": 100,
     "metadata": {},
     "output_type": "execute_result"
    }
   ],
   "source": [
    "int(myFloat)"
   ]
  },
  {
   "cell_type": "code",
   "execution_count": 101,
   "id": "0f829fd6",
   "metadata": {},
   "outputs": [],
   "source": [
    "myList = [1, 2, 3, 4, 5, 6, 1, 2, 3, 1, 2, 3]"
   ]
  },
  {
   "cell_type": "code",
   "execution_count": 102,
   "id": "ce7ce7c1",
   "metadata": {},
   "outputs": [],
   "source": [
    "mySet = set(myList)"
   ]
  },
  {
   "cell_type": "code",
   "execution_count": 103,
   "id": "f983debe",
   "metadata": {},
   "outputs": [
    {
     "data": {
      "text/plain": [
       "{1, 2, 3, 4, 5, 6}"
      ]
     },
     "execution_count": 103,
     "metadata": {},
     "output_type": "execute_result"
    }
   ],
   "source": [
    "mySet"
   ]
  },
  {
   "cell_type": "code",
   "execution_count": 104,
   "id": "b76f08fd",
   "metadata": {},
   "outputs": [],
   "source": [
    "myDictionary = {\"tiramusu\":100, \"Croissant\":200}"
   ]
  },
  {
   "cell_type": "code",
   "execution_count": 105,
   "id": "c6247acd",
   "metadata": {},
   "outputs": [
    {
     "data": {
      "text/plain": [
       "dict_items([('tiramusu', 100), ('Croissant', 200)])"
      ]
     },
     "execution_count": 105,
     "metadata": {},
     "output_type": "execute_result"
    }
   ],
   "source": [
    "myDictionary.items() #more make sense"
   ]
  },
  {
   "cell_type": "code",
   "execution_count": 106,
   "id": "a8af34d7",
   "metadata": {},
   "outputs": [
    {
     "data": {
      "text/plain": [
       "{1, 2, 3, 4, 5, 6}"
      ]
     },
     "execution_count": 106,
     "metadata": {},
     "output_type": "execute_result"
    }
   ],
   "source": [
    "mySet"
   ]
  },
  {
   "cell_type": "code",
   "execution_count": 107,
   "id": "4e148cea",
   "metadata": {},
   "outputs": [
    {
     "data": {
      "text/plain": [
       "[1, 2, 3, 4, 5, 6]"
      ]
     },
     "execution_count": 107,
     "metadata": {},
     "output_type": "execute_result"
    }
   ],
   "source": [
    "list(mySet)"
   ]
  },
  {
   "cell_type": "code",
   "execution_count": 110,
   "id": "e4a60d72",
   "metadata": {},
   "outputs": [],
   "source": [
    "#error handling"
   ]
  },
  {
   "cell_type": "code",
   "execution_count": 113,
   "id": "6beb1ac6",
   "metadata": {},
   "outputs": [
    {
     "name": "stdout",
     "output_type": "stream",
     "text": [
      "error\n"
     ]
    }
   ],
   "source": [
    "try:\n",
    "    int(\"tulips\")\n",
    "except:\n",
    "    print(\"error\")\n",
    "    "
   ]
  },
  {
   "cell_type": "code",
   "execution_count": 119,
   "id": "3abf3db2",
   "metadata": {},
   "outputs": [
    {
     "name": "stdout",
     "output_type": "stream",
     "text": [
      "Enter your student id: hazel\n"
     ]
    }
   ],
   "source": [
    "studentId = input(\"Enter your student id: \")"
   ]
  },
  {
   "cell_type": "code",
   "execution_count": 120,
   "id": "7eecea38",
   "metadata": {},
   "outputs": [
    {
     "name": "stdout",
     "output_type": "stream",
     "text": [
      "Enter your student id!\n"
     ]
    }
   ],
   "source": [
    "try:\n",
    "    print(int(studentId) * 2)\n",
    "except:\n",
    "    print(\"Enter your student id!\")"
   ]
  },
  {
   "cell_type": "code",
   "execution_count": 121,
   "id": "0db8a6d1",
   "metadata": {},
   "outputs": [],
   "source": [
    "#python cares about tab!"
   ]
  },
  {
   "cell_type": "code",
   "execution_count": 1,
   "id": "a5d99703",
   "metadata": {},
   "outputs": [],
   "source": [
    "#Control-Flow-Loop"
   ]
  },
  {
   "cell_type": "code",
   "execution_count": 2,
   "id": "0c82fd6e",
   "metadata": {},
   "outputs": [
    {
     "data": {
      "text/plain": [
       "True"
      ]
     },
     "execution_count": 2,
     "metadata": {},
     "output_type": "execute_result"
    }
   ],
   "source": [
    "1 < 3"
   ]
  },
  {
   "cell_type": "code",
   "execution_count": 3,
   "id": "6bf7a793",
   "metadata": {},
   "outputs": [
    {
     "data": {
      "text/plain": [
       "False"
      ]
     },
     "execution_count": 3,
     "metadata": {},
     "output_type": "execute_result"
    }
   ],
   "source": [
    "1 > 3"
   ]
  },
  {
   "cell_type": "code",
   "execution_count": 4,
   "id": "241eaf3e",
   "metadata": {},
   "outputs": [
    {
     "data": {
      "text/plain": [
       "True"
      ]
     },
     "execution_count": 4,
     "metadata": {},
     "output_type": "execute_result"
    }
   ],
   "source": [
    "1 == 1 "
   ]
  },
  {
   "cell_type": "code",
   "execution_count": 5,
   "id": "e0af500a",
   "metadata": {},
   "outputs": [
    {
     "data": {
      "text/plain": [
       "True"
      ]
     },
     "execution_count": 5,
     "metadata": {},
     "output_type": "execute_result"
    }
   ],
   "source": [
    "1 != 5"
   ]
  },
  {
   "cell_type": "code",
   "execution_count": 6,
   "id": "0c958f6d",
   "metadata": {},
   "outputs": [
    {
     "data": {
      "text/plain": [
       "True"
      ]
     },
     "execution_count": 6,
     "metadata": {},
     "output_type": "execute_result"
    }
   ],
   "source": [
    "5 <= 10 "
   ]
  },
  {
   "cell_type": "code",
   "execution_count": 7,
   "id": "457d9b05",
   "metadata": {},
   "outputs": [
    {
     "data": {
      "text/plain": [
       "False"
      ]
     },
     "execution_count": 7,
     "metadata": {},
     "output_type": "execute_result"
    }
   ],
   "source": [
    "5 >= 10"
   ]
  },
  {
   "cell_type": "code",
   "execution_count": 8,
   "id": "6d5bda8f",
   "metadata": {},
   "outputs": [],
   "source": [
    "#remainder"
   ]
  },
  {
   "cell_type": "code",
   "execution_count": 9,
   "id": "1ac08635",
   "metadata": {},
   "outputs": [
    {
     "data": {
      "text/plain": [
       "1"
      ]
     },
     "execution_count": 9,
     "metadata": {},
     "output_type": "execute_result"
    }
   ],
   "source": [
    "10 % 3 "
   ]
  },
  {
   "cell_type": "code",
   "execution_count": 10,
   "id": "3671e860",
   "metadata": {},
   "outputs": [
    {
     "data": {
      "text/plain": [
       "8"
      ]
     },
     "execution_count": 10,
     "metadata": {},
     "output_type": "execute_result"
    }
   ],
   "source": [
    "17 % 9"
   ]
  },
  {
   "cell_type": "code",
   "execution_count": 28,
   "id": "d56d8712",
   "metadata": {},
   "outputs": [],
   "source": [
    "x = 30"
   ]
  },
  {
   "cell_type": "code",
   "execution_count": 29,
   "id": "ccfb325a",
   "metadata": {},
   "outputs": [
    {
     "name": "stdout",
     "output_type": "stream",
     "text": [
      "x > 20\n"
     ]
    }
   ],
   "source": [
    "if x > 0 and x <= 10:\n",
    "    print(\"0 < x <= 10\")\n",
    "elif x > 10 and x <= 20:\n",
    "    print(\"10 < x <= 20\")\n",
    "else:\n",
    "    print(\"x > 20\")\n",
    "    "
   ]
  },
  {
   "cell_type": "code",
   "execution_count": 30,
   "id": "eeee2f67",
   "metadata": {},
   "outputs": [],
   "source": [
    "gender = \"female\""
   ]
  },
  {
   "cell_type": "code",
   "execution_count": 32,
   "id": "08eb941b",
   "metadata": {},
   "outputs": [
    {
     "name": "stdout",
     "output_type": "stream",
     "text": [
      "my gender is : female\n"
     ]
    }
   ],
   "source": [
    "print(f\"my gender is : {gender}\") #formatted string "
   ]
  },
  {
   "cell_type": "code",
   "execution_count": 33,
   "id": "4c35f369",
   "metadata": {},
   "outputs": [],
   "source": [
    "myList = [1, 3, 5, 7, 9, 11, 13]"
   ]
  },
  {
   "cell_type": "code",
   "execution_count": 38,
   "id": "2cf0abd9",
   "metadata": {},
   "outputs": [
    {
     "name": "stdout",
     "output_type": "stream",
     "text": [
      "1.5\n",
      "loop is working\n",
      "4.5\n",
      "loop is working\n",
      "7.5\n",
      "loop is working\n",
      "10.5\n",
      "loop is working\n",
      "13.5\n",
      "loop is working\n",
      "16.5\n",
      "loop is working\n",
      "19.5\n",
      "loop is working\n",
      "loop ended\n"
     ]
    }
   ],
   "source": [
    "for number in myList:\n",
    "    print(number / 2 * 3)\n",
    "    print(\"loop is working\")\n",
    "print(\"loop ended\")\n",
    "    "
   ]
  },
  {
   "cell_type": "code",
   "execution_count": 36,
   "id": "618caead",
   "metadata": {},
   "outputs": [
    {
     "data": {
      "text/plain": [
       "True"
      ]
     },
     "execution_count": 36,
     "metadata": {},
     "output_type": "execute_result"
    }
   ],
   "source": [
    "13 in myList"
   ]
  },
  {
   "cell_type": "code",
   "execution_count": 37,
   "id": "0725e813",
   "metadata": {},
   "outputs": [
    {
     "data": {
      "text/plain": [
       "True"
      ]
     },
     "execution_count": 37,
     "metadata": {},
     "output_type": "execute_result"
    }
   ],
   "source": [
    "\"a\" in \"watermelon\""
   ]
  },
  {
   "cell_type": "code",
   "execution_count": 39,
   "id": "eb1aa4d9",
   "metadata": {},
   "outputs": [],
   "source": [
    "z = 0 "
   ]
  },
  {
   "cell_type": "code",
   "execution_count": 40,
   "id": "d56b3358",
   "metadata": {},
   "outputs": [
    {
     "name": "stdout",
     "output_type": "stream",
     "text": [
      "0\n",
      "1\n",
      "2\n",
      "3\n",
      "4\n"
     ]
    }
   ],
   "source": [
    "while z < 5:\n",
    "    print(z)\n",
    "    z += 1      #z = z + 1"
   ]
  },
  {
   "cell_type": "code",
   "execution_count": 41,
   "id": "5d7936e9",
   "metadata": {},
   "outputs": [],
   "source": [
    "#PythonFunctions"
   ]
  },
  {
   "cell_type": "code",
   "execution_count": 42,
   "id": "ddfda9c6",
   "metadata": {},
   "outputs": [],
   "source": [
    "#range"
   ]
  },
  {
   "cell_type": "code",
   "execution_count": 43,
   "id": "b0ef07e7",
   "metadata": {},
   "outputs": [
    {
     "data": {
      "text/plain": [
       "[0, 1, 2, 3, 4, 5, 6, 7, 8, 9, 10, 11, 12, 13, 14, 15, 16, 17, 18, 19]"
      ]
     },
     "execution_count": 43,
     "metadata": {},
     "output_type": "execute_result"
    }
   ],
   "source": [
    "list(range(0,20))"
   ]
  },
  {
   "cell_type": "code",
   "execution_count": 46,
   "id": "9dd05754",
   "metadata": {},
   "outputs": [
    {
     "data": {
      "text/plain": [
       "(10, 11, 12, 13, 14)"
      ]
     },
     "execution_count": 46,
     "metadata": {},
     "output_type": "execute_result"
    }
   ],
   "source": [
    "tuple(range(10,15))"
   ]
  },
  {
   "cell_type": "code",
   "execution_count": 47,
   "id": "71107fa6",
   "metadata": {},
   "outputs": [],
   "source": [
    "myList = [\"h\", \"e\", \"l\", \"l\", \"o\"]"
   ]
  },
  {
   "cell_type": "code",
   "execution_count": 48,
   "id": "bfce7a67",
   "metadata": {},
   "outputs": [
    {
     "name": "stdout",
     "output_type": "stream",
     "text": [
      "h\n",
      "e\n",
      "l\n",
      "l\n",
      "o\n"
     ]
    }
   ],
   "source": [
    "for letter in myList:\n",
    "    print(letter)"
   ]
  },
  {
   "cell_type": "code",
   "execution_count": 51,
   "id": "bedcf6d0",
   "metadata": {},
   "outputs": [
    {
     "name": "stdout",
     "output_type": "stream",
     "text": [
      "0\n",
      "1\n"
     ]
    }
   ],
   "source": [
    "for letter in range(0,len(myList)-3):\n",
    "    print(letter)"
   ]
  },
  {
   "cell_type": "code",
   "execution_count": 52,
   "id": "c083bd25",
   "metadata": {},
   "outputs": [
    {
     "data": {
      "text/plain": [
       "[0, 20, 40, 60, 80]"
      ]
     },
     "execution_count": 52,
     "metadata": {},
     "output_type": "execute_result"
    }
   ],
   "source": [
    "list(range(0,100,20))"
   ]
  },
  {
   "cell_type": "code",
   "execution_count": 53,
   "id": "5d60461e",
   "metadata": {},
   "outputs": [],
   "source": [
    "#enumarate"
   ]
  },
  {
   "cell_type": "code",
   "execution_count": 54,
   "id": "b3713bcc",
   "metadata": {},
   "outputs": [],
   "source": [
    " myList = list(range(5,15))"
   ]
  },
  {
   "cell_type": "code",
   "execution_count": 55,
   "id": "1dda98ec",
   "metadata": {},
   "outputs": [
    {
     "data": {
      "text/plain": [
       "[5, 6, 7, 8, 9, 10, 11, 12, 13, 14]"
      ]
     },
     "execution_count": 55,
     "metadata": {},
     "output_type": "execute_result"
    }
   ],
   "source": [
    "myList"
   ]
  },
  {
   "cell_type": "code",
   "execution_count": 56,
   "id": "1f713e7c",
   "metadata": {},
   "outputs": [
    {
     "name": "stdout",
     "output_type": "stream",
     "text": [
      "number: 5 index: 0\n",
      "number: 6 index: 1\n",
      "number: 7 index: 2\n",
      "number: 8 index: 3\n",
      "number: 9 index: 4\n",
      "number: 10 index: 5\n",
      "number: 11 index: 6\n",
      "number: 12 index: 7\n",
      "number: 13 index: 8\n",
      "number: 14 index: 9\n"
     ]
    }
   ],
   "source": [
    "index = 0\n",
    "for number in myList:\n",
    "    print(f\"number: {number} index: {index}\")\n",
    "    index += 1"
   ]
  },
  {
   "cell_type": "code",
   "execution_count": 58,
   "id": "4da9e821",
   "metadata": {},
   "outputs": [
    {
     "name": "stdout",
     "output_type": "stream",
     "text": [
      "(0, 5)\n",
      "(1, 6)\n",
      "(2, 7)\n",
      "(3, 8)\n",
      "(4, 9)\n",
      "(5, 10)\n",
      "(6, 11)\n",
      "(7, 12)\n",
      "(8, 13)\n",
      "(9, 14)\n"
     ]
    }
   ],
   "source": [
    "for element in enumerate(myList):\n",
    "    print(element)"
   ]
  },
  {
   "cell_type": "code",
   "execution_count": 59,
   "id": "f87cf42d",
   "metadata": {},
   "outputs": [
    {
     "name": "stdout",
     "output_type": "stream",
     "text": [
      "index: 0 number: 5\n",
      "index: 1 number: 6\n",
      "index: 2 number: 7\n",
      "index: 3 number: 8\n",
      "index: 4 number: 9\n",
      "index: 5 number: 10\n",
      "index: 6 number: 11\n",
      "index: 7 number: 12\n",
      "index: 8 number: 13\n",
      "index: 9 number: 14\n"
     ]
    }
   ],
   "source": [
    "for (index, number) in enumerate(myList):\n",
    "    print(f\"index: {index} number: {number}\")"
   ]
  },
  {
   "cell_type": "code",
   "execution_count": 60,
   "id": "95ec00b7",
   "metadata": {},
   "outputs": [],
   "source": [
    "newList = []"
   ]
  },
  {
   "cell_type": "code",
   "execution_count": 61,
   "id": "3afc8975",
   "metadata": {},
   "outputs": [],
   "source": [
    "myString = \"zeynepsarepinar\""
   ]
  },
  {
   "cell_type": "code",
   "execution_count": 62,
   "id": "1740f8c7",
   "metadata": {},
   "outputs": [],
   "source": [
    "for element in myString:\n",
    "    newList.append(element)"
   ]
  },
  {
   "cell_type": "code",
   "execution_count": 63,
   "id": "6b5d8294",
   "metadata": {},
   "outputs": [
    {
     "data": {
      "text/plain": [
       "['z', 'e', 'y', 'n', 'e', 'p', 's', 'a', 'r', 'e', 'p', 'i', 'n', 'a', 'r']"
      ]
     },
     "execution_count": 63,
     "metadata": {},
     "output_type": "execute_result"
    }
   ],
   "source": [
    "newList"
   ]
  },
  {
   "cell_type": "code",
   "execution_count": 64,
   "id": "5f6bda3e",
   "metadata": {},
   "outputs": [],
   "source": [
    "#one liner "
   ]
  },
  {
   "cell_type": "code",
   "execution_count": 65,
   "id": "57d6275f",
   "metadata": {},
   "outputs": [],
   "source": [
    "newList = [element for element in myString]"
   ]
  },
  {
   "cell_type": "code",
   "execution_count": 66,
   "id": "79f7d6b4",
   "metadata": {},
   "outputs": [
    {
     "data": {
      "text/plain": [
       "['z', 'e', 'y', 'n', 'e', 'p', 's', 'a', 'r', 'e', 'p', 'i', 'n', 'a', 'r']"
      ]
     },
     "execution_count": 66,
     "metadata": {},
     "output_type": "execute_result"
    }
   ],
   "source": [
    "newList"
   ]
  },
  {
   "cell_type": "code",
   "execution_count": 1,
   "id": "04bc9fcb",
   "metadata": {},
   "outputs": [],
   "source": [
    "#functions"
   ]
  },
  {
   "cell_type": "code",
   "execution_count": 2,
   "id": "8b66989f",
   "metadata": {},
   "outputs": [],
   "source": [
    "def helloPython():\n",
    "    print(\"hello\")\n",
    "    print(\"world\")"
   ]
  },
  {
   "cell_type": "code",
   "execution_count": 3,
   "id": "082313b7",
   "metadata": {},
   "outputs": [
    {
     "name": "stdout",
     "output_type": "stream",
     "text": [
      "hello\n",
      "world\n"
     ]
    }
   ],
   "source": [
    "helloPython()"
   ]
  },
  {
   "cell_type": "code",
   "execution_count": 4,
   "id": "5564e2e7",
   "metadata": {},
   "outputs": [],
   "source": [
    "def helloName(name):\n",
    "    print(f\"hello {name}\")"
   ]
  },
  {
   "cell_type": "code",
   "execution_count": 5,
   "id": "bd97b1fe",
   "metadata": {},
   "outputs": [
    {
     "name": "stdout",
     "output_type": "stream",
     "text": [
      "hello Zeynep\n"
     ]
    }
   ],
   "source": [
    "helloName(\"Zeynep\")"
   ]
  },
  {
   "cell_type": "code",
   "execution_count": 6,
   "id": "994052f8",
   "metadata": {},
   "outputs": [
    {
     "name": "stdout",
     "output_type": "stream",
     "text": [
      "hello Cameron\n"
     ]
    }
   ],
   "source": [
    "helloName(\"Cameron\")"
   ]
  },
  {
   "cell_type": "code",
   "execution_count": 7,
   "id": "5da2599f",
   "metadata": {},
   "outputs": [],
   "source": [
    "def pythonSum(number1, number2):\n",
    "    print(number1 + number2)"
   ]
  },
  {
   "cell_type": "code",
   "execution_count": 9,
   "id": "2f4f615e",
   "metadata": {},
   "outputs": [
    {
     "name": "stdout",
     "output_type": "stream",
     "text": [
      "15\n"
     ]
    }
   ],
   "source": [
    "pythonSum(5,10)"
   ]
  },
  {
   "cell_type": "code",
   "execution_count": 11,
   "id": "a67713d2",
   "metadata": {},
   "outputs": [],
   "source": [
    "def pythonDivide(numberA, numberB):\n",
    "    print(numberA / numberB)"
   ]
  },
  {
   "cell_type": "code",
   "execution_count": 12,
   "id": "fd04bf1d",
   "metadata": {},
   "outputs": [
    {
     "name": "stdout",
     "output_type": "stream",
     "text": [
      "4.0\n"
     ]
    }
   ],
   "source": [
    "pythonDivide(20,5)"
   ]
  },
  {
   "cell_type": "code",
   "execution_count": 13,
   "id": "a536d42e",
   "metadata": {},
   "outputs": [
    {
     "name": "stdout",
     "output_type": "stream",
     "text": [
      "30\n"
     ]
    }
   ],
   "source": [
    "x = pythonSum(10,20)"
   ]
  },
  {
   "cell_type": "code",
   "execution_count": 14,
   "id": "f2d79f37",
   "metadata": {},
   "outputs": [],
   "source": [
    "x"
   ]
  },
  {
   "cell_type": "code",
   "execution_count": 15,
   "id": "dd9050ac",
   "metadata": {},
   "outputs": [
    {
     "data": {
      "text/plain": [
       "NoneType"
      ]
     },
     "execution_count": 15,
     "metadata": {},
     "output_type": "execute_result"
    }
   ],
   "source": [
    "type(x)"
   ]
  },
  {
   "cell_type": "code",
   "execution_count": 17,
   "id": "8d58a652",
   "metadata": {},
   "outputs": [
    {
     "name": "stdout",
     "output_type": "stream",
     "text": [
      "None\n"
     ]
    }
   ],
   "source": [
    "if x is None:\n",
    "    print(x)"
   ]
  },
  {
   "cell_type": "code",
   "execution_count": 20,
   "id": "5bab9be0",
   "metadata": {},
   "outputs": [
    {
     "name": "stdout",
     "output_type": "stream",
     "text": [
      "x is None\n"
     ]
    }
   ],
   "source": [
    "if x:\n",
    "    print(x)\n",
    "else:\n",
    "    print(\"x is None\")"
   ]
  },
  {
   "cell_type": "code",
   "execution_count": 21,
   "id": "defce92c",
   "metadata": {},
   "outputs": [],
   "source": [
    "def returnSum(num1, num2, num3):\n",
    "    print(num1+num2+num3)\n",
    "    return num1+num2+num3"
   ]
  },
  {
   "cell_type": "code",
   "execution_count": 26,
   "id": "3a6cc59f",
   "metadata": {},
   "outputs": [
    {
     "name": "stdout",
     "output_type": "stream",
     "text": [
      "90\n"
     ]
    }
   ],
   "source": [
    "x = returnSum(20,30,40)"
   ]
  },
  {
   "cell_type": "code",
   "execution_count": 27,
   "id": "7c4b259b",
   "metadata": {},
   "outputs": [
    {
     "data": {
      "text/plain": [
       "90"
      ]
     },
     "execution_count": 27,
     "metadata": {},
     "output_type": "execute_result"
    }
   ],
   "source": [
    "x"
   ]
  },
  {
   "cell_type": "code",
   "execution_count": 28,
   "id": "1adcb505",
   "metadata": {},
   "outputs": [
    {
     "data": {
      "text/plain": [
       "int"
      ]
     },
     "execution_count": 28,
     "metadata": {},
     "output_type": "execute_result"
    }
   ],
   "source": [
    "type(x)"
   ]
  },
  {
   "cell_type": "code",
   "execution_count": 31,
   "id": "abe03df9",
   "metadata": {},
   "outputs": [],
   "source": [
    "def stringCheck(s): \n",
    "    if s == \"lemon\":\n",
    "        print(\"lemon\")\n",
    "    else:\n",
    "        print(\"there isn't lemon\")"
   ]
  },
  {
   "cell_type": "code",
   "execution_count": 32,
   "id": "89e3c010",
   "metadata": {},
   "outputs": [
    {
     "name": "stdout",
     "output_type": "stream",
     "text": [
      "lemon\n"
     ]
    }
   ],
   "source": [
    "stringCheck(\"lemon\")"
   ]
  },
  {
   "cell_type": "code",
   "execution_count": 33,
   "id": "2ffdab4d",
   "metadata": {},
   "outputs": [
    {
     "name": "stdout",
     "output_type": "stream",
     "text": [
      "there isn't lemon\n"
     ]
    }
   ],
   "source": [
    "stringCheck(\"orange\")"
   ]
  },
  {
   "cell_type": "code",
   "execution_count": 34,
   "id": "bb5c70f0",
   "metadata": {},
   "outputs": [],
   "source": [
    "def defaultValue(name = \"water\"):\n",
    "    print(name)"
   ]
  },
  {
   "cell_type": "code",
   "execution_count": 36,
   "id": "2d8fd223",
   "metadata": {},
   "outputs": [
    {
     "name": "stdout",
     "output_type": "stream",
     "text": [
      "water\n"
     ]
    }
   ],
   "source": [
    "defaultValue()"
   ]
  },
  {
   "cell_type": "code",
   "execution_count": 37,
   "id": "154ce136",
   "metadata": {},
   "outputs": [
    {
     "name": "stdout",
     "output_type": "stream",
     "text": [
      "juice\n"
     ]
    }
   ],
   "source": [
    "defaultValue(\"juice\")"
   ]
  },
  {
   "cell_type": "code",
   "execution_count": 39,
   "id": "57b738c2",
   "metadata": {},
   "outputs": [],
   "source": [
    "#class"
   ]
  },
  {
   "cell_type": "code",
   "execution_count": 69,
   "id": "75f618bc",
   "metadata": {},
   "outputs": [],
   "source": [
    "class Books():\n",
    "    name = \"\"\n",
    "    def __init__(self,name):\n",
    "        self.name = name"
   ]
  },
  {
   "cell_type": "code",
   "execution_count": 73,
   "id": "3971a3a8",
   "metadata": {},
   "outputs": [],
   "source": [
    "theLittlePrince = Books(\"theLittlePrince\") #instance"
   ]
  },
  {
   "cell_type": "code",
   "execution_count": 176,
   "id": "71b51509",
   "metadata": {},
   "outputs": [],
   "source": [
    "class Animals():\n",
    "    species = \"animal\"\n",
    "    def __init__(self,name,age,gender):\n",
    "        self.name = name\n",
    "        self.age = age\n",
    "        self.gender = gender\n",
    "    def dogs(self):\n",
    "        print(\"bark bark bark\")\n",
    "    def bees(self):\n",
    "        print(\"buzz buzz buzz\")\n",
    "    def __len__(self):\n",
    "        return self.age\n",
    "    def __str__(self):\n",
    "        return self.name"
   ]
  },
  {
   "cell_type": "code",
   "execution_count": 177,
   "id": "ce0e9b91",
   "metadata": {},
   "outputs": [],
   "source": [
    "spike = Animals(\"spike\", 3, \"female\")"
   ]
  },
  {
   "cell_type": "code",
   "execution_count": 178,
   "id": "8d580175",
   "metadata": {},
   "outputs": [
    {
     "data": {
      "text/plain": [
       "'spike'"
      ]
     },
     "execution_count": 178,
     "metadata": {},
     "output_type": "execute_result"
    }
   ],
   "source": [
    "spike.name"
   ]
  },
  {
   "cell_type": "code",
   "execution_count": 179,
   "id": "228366b7",
   "metadata": {},
   "outputs": [
    {
     "data": {
      "text/plain": [
       "3"
      ]
     },
     "execution_count": 179,
     "metadata": {},
     "output_type": "execute_result"
    }
   ],
   "source": [
    "spike.age"
   ]
  },
  {
   "cell_type": "code",
   "execution_count": 180,
   "id": "a0d2afc6",
   "metadata": {},
   "outputs": [
    {
     "data": {
      "text/plain": [
       "'female'"
      ]
     },
     "execution_count": 180,
     "metadata": {},
     "output_type": "execute_result"
    }
   ],
   "source": [
    "spike.gender"
   ]
  },
  {
   "cell_type": "code",
   "execution_count": 181,
   "id": "77e007b0",
   "metadata": {},
   "outputs": [
    {
     "data": {
      "text/plain": [
       "'animal'"
      ]
     },
     "execution_count": 181,
     "metadata": {},
     "output_type": "execute_result"
    }
   ],
   "source": [
    "spike.species"
   ]
  },
  {
   "cell_type": "code",
   "execution_count": 182,
   "id": "f1670d52",
   "metadata": {},
   "outputs": [
    {
     "name": "stdout",
     "output_type": "stream",
     "text": [
      "buzz buzz buzz\n"
     ]
    }
   ],
   "source": [
    "spike.bees()"
   ]
  },
  {
   "cell_type": "code",
   "execution_count": 183,
   "id": "7b80db20",
   "metadata": {},
   "outputs": [
    {
     "name": "stdout",
     "output_type": "stream",
     "text": [
      "bark bark bark\n"
     ]
    }
   ],
   "source": [
    "spike.dogs()"
   ]
  },
  {
   "cell_type": "code",
   "execution_count": 184,
   "id": "438abf9c",
   "metadata": {},
   "outputs": [
    {
     "data": {
      "text/plain": [
       "3"
      ]
     },
     "execution_count": 184,
     "metadata": {},
     "output_type": "execute_result"
    }
   ],
   "source": [
    "len(spike)"
   ]
  },
  {
   "cell_type": "code",
   "execution_count": 185,
   "id": "47434a7b",
   "metadata": {},
   "outputs": [
    {
     "name": "stdout",
     "output_type": "stream",
     "text": [
      "spike\n"
     ]
    }
   ],
   "source": [
    "print(spike)"
   ]
  },
  {
   "cell_type": "code",
   "execution_count": null,
   "id": "78f65840",
   "metadata": {},
   "outputs": [],
   "source": [
    "#inheritance"
   ]
  },
  {
   "cell_type": "code",
   "execution_count": 203,
   "id": "5d42a5a6",
   "metadata": {},
   "outputs": [],
   "source": [
    "class Class1():\n",
    "    \n",
    "    def __init__(self):\n",
    "        print(\"Class 1 created\")\n",
    "        \n",
    "    def method1(self):\n",
    "        print(\"method 1\")\n",
    "        \n",
    "    def method2(self):\n",
    "        print(\"method 2\")"
   ]
  },
  {
   "cell_type": "code",
   "execution_count": 205,
   "id": "4b785d0a",
   "metadata": {},
   "outputs": [
    {
     "name": "stdout",
     "output_type": "stream",
     "text": [
      "Class 1 created\n"
     ]
    }
   ],
   "source": [
    "instance1 = Class1()"
   ]
  },
  {
   "cell_type": "code",
   "execution_count": 206,
   "id": "d79506b8",
   "metadata": {},
   "outputs": [
    {
     "name": "stdout",
     "output_type": "stream",
     "text": [
      "method 1\n"
     ]
    }
   ],
   "source": [
    "instance1.method1()"
   ]
  },
  {
   "cell_type": "code",
   "execution_count": 207,
   "id": "7e3c22a5",
   "metadata": {},
   "outputs": [
    {
     "name": "stdout",
     "output_type": "stream",
     "text": [
      "method 2\n"
     ]
    }
   ],
   "source": [
    "instance1.method2()"
   ]
  },
  {
   "cell_type": "code",
   "execution_count": 210,
   "id": "60527c12",
   "metadata": {},
   "outputs": [],
   "source": [
    "class Class2(Class1):\n",
    "    def __init__(self):\n",
    "        Class1.__init__(self)\n",
    "        print(\"Class 2 created\")"
   ]
  },
  {
   "cell_type": "code",
   "execution_count": 211,
   "id": "359c0cb2",
   "metadata": {},
   "outputs": [
    {
     "name": "stdout",
     "output_type": "stream",
     "text": [
      "Class 1 created\n",
      "Class 2 created\n"
     ]
    }
   ],
   "source": [
    "instance2 = Class2()"
   ]
  },
  {
   "cell_type": "code",
   "execution_count": 213,
   "id": "ce053d44",
   "metadata": {},
   "outputs": [
    {
     "name": "stdout",
     "output_type": "stream",
     "text": [
      "method 1\n"
     ]
    }
   ],
   "source": [
    "instance2.method1()"
   ]
  },
  {
   "cell_type": "code",
   "execution_count": 214,
   "id": "fc8cf3fd",
   "metadata": {},
   "outputs": [
    {
     "name": "stdout",
     "output_type": "stream",
     "text": [
      "method 2\n"
     ]
    }
   ],
   "source": [
    "instance2.method2()"
   ]
  },
  {
   "cell_type": "code",
   "execution_count": 215,
   "id": "684da956",
   "metadata": {},
   "outputs": [],
   "source": [
    "#polymorphism"
   ]
  },
  {
   "cell_type": "code",
   "execution_count": 251,
   "id": "a27d49b5",
   "metadata": {},
   "outputs": [],
   "source": [
    "class FilterCoffee():\n",
    "    \n",
    "    def __init__(self,name):\n",
    "        self.name = name\n",
    "        \n",
    "    def description(self):\n",
    "        return self.name + \" 6 kcal\""
   ]
  },
  {
   "cell_type": "code",
   "execution_count": 252,
   "id": "4e4c16f5",
   "metadata": {},
   "outputs": [],
   "source": [
    "class Americano():\n",
    "    \n",
    "    def __init__(self,name):\n",
    "        self.name = name\n",
    "        \n",
    "    def description(self):\n",
    "        return self.name + \" 11 kcal\""
   ]
  },
  {
   "cell_type": "code",
   "execution_count": 253,
   "id": "8f0a2908",
   "metadata": {},
   "outputs": [],
   "source": [
    "filterCoffee = FilterCoffee(\"filterCoffee\")"
   ]
  },
  {
   "cell_type": "code",
   "execution_count": 254,
   "id": "40dd574e",
   "metadata": {},
   "outputs": [],
   "source": [
    "americano = Americano(\"americano\")"
   ]
  },
  {
   "cell_type": "code",
   "execution_count": 255,
   "id": "71d4f66a",
   "metadata": {},
   "outputs": [],
   "source": [
    "coffeeOrderList = [filterCoffee, americano]"
   ]
  },
  {
   "cell_type": "code",
   "execution_count": 256,
   "id": "09f4f47e",
   "metadata": {},
   "outputs": [
    {
     "name": "stdout",
     "output_type": "stream",
     "text": [
      "filterCoffee 6 kcal\n",
      "americano 11 kcal\n"
     ]
    }
   ],
   "source": [
    "for coffee in coffeeOrderList:\n",
    "    print(coffee.description())"
   ]
  },
  {
   "cell_type": "code",
   "execution_count": 257,
   "id": "6748fe5d",
   "metadata": {},
   "outputs": [],
   "source": [
    "#scope"
   ]
  },
  {
   "cell_type": "code",
   "execution_count": 265,
   "id": "9ea826b4",
   "metadata": {},
   "outputs": [],
   "source": [
    "number = 20"
   ]
  },
  {
   "cell_type": "code",
   "execution_count": 266,
   "id": "66a280b5",
   "metadata": {},
   "outputs": [
    {
     "name": "stdout",
     "output_type": "stream",
     "text": [
      "20\n"
     ]
    }
   ],
   "source": [
    "print(number)"
   ]
  },
  {
   "cell_type": "code",
   "execution_count": 267,
   "id": "e4dd1f7e",
   "metadata": {},
   "outputs": [],
   "source": [
    "number = 10\n",
    "def multiply(num1):\n",
    "    number = 5 \n",
    "    return num1 * number"
   ]
  },
  {
   "cell_type": "code",
   "execution_count": 268,
   "id": "ba1535ef",
   "metadata": {},
   "outputs": [
    {
     "data": {
      "text/plain": [
       "50"
      ]
     },
     "execution_count": 268,
     "metadata": {},
     "output_type": "execute_result"
    }
   ],
   "source": [
    "multiply(10)"
   ]
  },
  {
   "cell_type": "code",
   "execution_count": 269,
   "id": "23f63df5",
   "metadata": {},
   "outputs": [
    {
     "name": "stdout",
     "output_type": "stream",
     "text": [
      "10\n"
     ]
    }
   ],
   "source": [
    "print(number)"
   ]
  },
  {
   "cell_type": "code",
   "execution_count": 273,
   "id": "f1e767d9",
   "metadata": {},
   "outputs": [
    {
     "name": "stdout",
     "output_type": "stream",
     "text": [
      "130\n",
      "13\n"
     ]
    }
   ],
   "source": [
    "number = 13\n",
    "def multiply(num1):\n",
    "    number = 5 \n",
    "    return num1 * number\n",
    "print(multiply(26))\n",
    "print(number)"
   ]
  },
  {
   "cell_type": "code",
   "execution_count": 274,
   "id": "cc580af8",
   "metadata": {},
   "outputs": [],
   "source": [
    "#local, enclosing, global, built ----> LEGB"
   ]
  },
  {
   "cell_type": "code",
   "execution_count": 277,
   "id": "2e1057bb",
   "metadata": {},
   "outputs": [],
   "source": [
    "#global\n",
    "myName = \"Zeynep\"\n",
    "\n",
    "def myFunction():\n",
    "    #enclosing\n",
    "    myName = \"Sare\"\n",
    "    \n",
    "    def myFunction1():\n",
    "        #local\n",
    "        myName = \"PINAR\"\n",
    "        print(myName)\n",
    "    myFunction1()"
   ]
  },
  {
   "cell_type": "code",
   "execution_count": 279,
   "id": "ad6bc60a",
   "metadata": {},
   "outputs": [
    {
     "name": "stdout",
     "output_type": "stream",
     "text": [
      "PINAR\n"
     ]
    }
   ],
   "source": [
    "myFunction()"
   ]
  },
  {
   "cell_type": "code",
   "execution_count": 280,
   "id": "fef9557c",
   "metadata": {},
   "outputs": [
    {
     "name": "stdout",
     "output_type": "stream",
     "text": [
      "13\n"
     ]
    }
   ],
   "source": [
    "z = 13 \n",
    "\n",
    "def func():\n",
    "    global z \n",
    "    z = 7\n",
    "    print(z)\n",
    "print(z)"
   ]
  },
  {
   "cell_type": "code",
   "execution_count": 281,
   "id": "0c3c08ca",
   "metadata": {},
   "outputs": [
    {
     "name": "stdout",
     "output_type": "stream",
     "text": [
      "7\n"
     ]
    }
   ],
   "source": [
    "func()"
   ]
  },
  {
   "cell_type": "code",
   "execution_count": 283,
   "id": "4d2db325",
   "metadata": {},
   "outputs": [
    {
     "name": "stdout",
     "output_type": "stream",
     "text": [
      "7\n"
     ]
    }
   ],
   "source": [
    "print(z)"
   ]
  },
  {
   "cell_type": "code",
   "execution_count": 1,
   "id": "472fa56a",
   "metadata": {},
   "outputs": [
    {
     "name": "stdout",
     "output_type": "stream",
     "text": [
      "the end\n"
     ]
    }
   ],
   "source": [
    "print(\"the end\")"
   ]
  },
  {
   "cell_type": "code",
   "execution_count": null,
   "id": "6a84337c",
   "metadata": {},
   "outputs": [],
   "source": []
  }
 ],
 "metadata": {
  "kernelspec": {
   "display_name": "Python 3 (ipykernel)",
   "language": "python",
   "name": "python3"
  },
  "language_info": {
   "codemirror_mode": {
    "name": "ipython",
    "version": 3
   },
   "file_extension": ".py",
   "mimetype": "text/x-python",
   "name": "python",
   "nbconvert_exporter": "python",
   "pygments_lexer": "ipython3",
   "version": "3.9.13"
  }
 },
 "nbformat": 4,
 "nbformat_minor": 5
}
